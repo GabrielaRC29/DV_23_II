{
  "nbformat": 4,
  "nbformat_minor": 0,
  "metadata": {
    "colab": {
      "provenance": [],
      "include_colab_link": true
    },
    "kernelspec": {
      "name": "python3",
      "display_name": "Python 3"
    },
    "language_info": {
      "name": "python"
    }
  },
  "cells": [
    {
      "cell_type": "markdown",
      "metadata": {
        "id": "view-in-github",
        "colab_type": "text"
      },
      "source": [
        "<a href=\"https://colab.research.google.com/github/GabrielaRC29/DV_23_II/blob/main/Workshop_1.ipynb\" target=\"_parent\"><img src=\"https://colab.research.google.com/assets/colab-badge.svg\" alt=\"Open In Colab\"/></a>"
      ]
    },
    {
      "cell_type": "markdown",
      "source": [
        "<h1 align = \"center\">\n",
        "<strong> Universidad de La Salle </strong>\n",
        "</h1>\n",
        "\n",
        "<h1 align = \"center\">\n",
        "<strong> Finance and International Commerce Program </strong>\n",
        "</h1>\n",
        "\n",
        "<h1 align = \"center\">\n",
        "<strong> Data Visualization - Workshop 1 </strong>\n",
        "</h1>\n"
      ],
      "metadata": {
        "id": "BJolccUZSw9G"
      }
    },
    {
      "cell_type": "markdown",
      "source": [
        "# **Instructions**\n",
        "\n",
        "1. Please read carefully the document. Ask all the questions you may have.\n",
        "2. Save this file in your Google Drive.\n",
        "3. DO NOT alter any cell unless it specifically ask you to do it.\n",
        "4. You will have **two hours** (until 11am) maximum to finish and deliver this workshop.\n",
        "5. You can use any help you want: your notes, your codes, internet, classmates.\n",
        "6. Nevertheless, the workshop must be presented individually.\n",
        "7. Once you have finish, save a copy in your GitHub class repository.\n",
        "8. The deliver process is as follows:\n",
        "    \n",
        "    8.1. Via email you will send the link to the GitHub location.\n",
        "    \n",
        "    8.2. In the same mail, just for safety, you will attach a copy of your `.ipynb` file.\n",
        "    \n",
        "    8.3. The email must have the subject: \"W1 DV\".   "
      ],
      "metadata": {
        "id": "pLRc5RAyWsre"
      }
    },
    {
      "cell_type": "markdown",
      "source": [
        "# **To keep in mind**\n",
        "\n",
        "* The excercises propouse are intended to **push** you a little futher in your Pyton skills.\n",
        "* This means that there are going to be exercises above the level seen in class.\n",
        "* The idea is to incentive your creative thinking and solving problem skills.\n",
        "* As always there several ways to do the excersice. But in this case, I ask you to use only the tools we learned.\n",
        "* I ask you to trust me. Give your best effort. Grades do not matter here."
      ],
      "metadata": {
        "id": "4QKdNKujZEbk"
      }
    },
    {
      "cell_type": "markdown",
      "source": [
        "# **Exercise Set**"
      ],
      "metadata": {
        "id": "2kRoSKUmaGl9"
      }
    },
    {
      "cell_type": "markdown",
      "source": [
        "## Ex 1.\n",
        "\n",
        "In the cell code below, first create a variable with your full name then write the appropiate code, using *split*, to print your full name as this:\n",
        "\n",
        "`First Name: José` &nbsp;   &nbsp;   &nbsp;   &nbsp;   &nbsp; `Middle Name: Rodrigo`\n",
        "\n",
        "`First Last  Name: Vélez` &nbsp;   &nbsp;   &nbsp;   &nbsp;   &nbsp; `Second Last Name: Molano`"
      ],
      "metadata": {
        "id": "LAdWe8iEaL7B"
      }
    },
    {
      "cell_type": "code",
      "execution_count": 11,
      "metadata": {
        "id": "rw792kISSt3n",
        "outputId": "a6d5a50e-8f21-4549-d11c-c06bd0844c3d",
        "colab": {
          "base_uri": "https://localhost:8080/"
        }
      },
      "outputs": [
        {
          "output_type": "stream",
          "name": "stdout",
          "text": [
            "First Name: Gabriela\n",
            "First Last Name: Rodríguez\n",
            "Second Last Name: Consuegra\n"
          ]
        }
      ],
      "source": [
        "# Answ. Ex 1\n",
        "# (write your code below)\n",
        "name = 'Gabriela Rodríguez Consuegra'\n",
        "print(\"First Name:\", name.split(\" \")[0])\n",
        "print(\"First Last Name:\", name.split(\" \")[1])\n",
        "print(\"Second Last Name:\", name.split(\" \")[2])\n",
        "\n",
        "\n",
        "\n",
        "\n"
      ]
    },
    {
      "cell_type": "markdown",
      "source": [
        "## Ex 2.\n",
        "\n",
        "In the cell code below, you are given two random numbers `x` and `y`.\n",
        "\n",
        "Write the appropiate code to print the result of dividing `x` by all its precedents rounded by `y` decimal positions.\n",
        "\n",
        "This is an example of the expected result for `x = 15` and `y = 2`:\n",
        "\n",
        "`15 / 1 = 15.00`\n",
        "\n",
        "`15 / 2 = 7.50`\n",
        "\n",
        "`15 / 3 = 5.00`\n",
        "\n",
        "`...`\n",
        "\n",
        "`15 / 15 = 1.00`\n",
        "\n",
        "**JUST IN CASE!** You must use the variables given to you"
      ],
      "metadata": {
        "id": "YFsGiwcNfgzP"
      }
    },
    {
      "cell_type": "code",
      "source": [
        "# Answ. Ex 2\n",
        "###################################\n",
        "#      DO NOT MODIFY THIS PART    #\n",
        "import numpy as np\n",
        "x = round(np.random.uniform(12,22))\n",
        "y = round(np.random.uniform(1,4))\n",
        "###################################\n",
        "\n",
        "# (write your code below)\n",
        "print('The value that x takes for this case is:', x)\n",
        "print('The decimals to display in this case are:', y)\n",
        "\n",
        "print('Division table of',x,':')\n",
        "for i in range (1 ,x + 1): print(x,'/',i,'=', round( x / i , y))\n"
      ],
      "metadata": {
        "id": "Dwdsh30Ti3vl",
        "outputId": "dd2b58f9-478c-43bd-a2e5-7f44ec30df60",
        "colab": {
          "base_uri": "https://localhost:8080/"
        }
      },
      "execution_count": 21,
      "outputs": [
        {
          "output_type": "stream",
          "name": "stdout",
          "text": [
            "The value that x takes for this case is: 20\n",
            "The decimals to display in this case are: 3\n",
            "Division table of 20 :\n",
            "20 / 1 = 20.0\n",
            "20 / 2 = 10.0\n",
            "20 / 3 = 6.667\n",
            "20 / 4 = 5.0\n",
            "20 / 5 = 4.0\n",
            "20 / 6 = 3.333\n",
            "20 / 7 = 2.857\n",
            "20 / 8 = 2.5\n",
            "20 / 9 = 2.222\n",
            "20 / 10 = 2.0\n",
            "20 / 11 = 1.818\n",
            "20 / 12 = 1.667\n",
            "20 / 13 = 1.538\n",
            "20 / 14 = 1.429\n",
            "20 / 15 = 1.333\n",
            "20 / 16 = 1.25\n",
            "20 / 17 = 1.176\n",
            "20 / 18 = 1.111\n",
            "20 / 19 = 1.053\n",
            "20 / 20 = 1.0\n"
          ]
        }
      ]
    },
    {
      "cell_type": "markdown",
      "source": [
        "## Ex 3.\n",
        "\n",
        "The Fibonnaci sequence is a sequence constructed by the process:\n",
        "\n",
        "$x_{i} = x_{i-1} + x_{i-2}$\n",
        "\n",
        "where $x_{1} = x_{2} = 1$.\n",
        "\n",
        "Below you are given a random number `z`, write the appropiate code to calculate and print the `z`th position of the Fibonnaci sequence.\n",
        "\n",
        "\n"
      ],
      "metadata": {
        "id": "PYIRNu3imJ_n"
      }
    },
    {
      "cell_type": "code",
      "source": [
        "# Answ. Ex 3\n",
        "###################################\n",
        "#      DO NOT MODIFY THIS PART    #\n",
        "import numpy as np\n",
        "z = round(np.random.uniform(50,100))\n",
        "###################################\n",
        "\n",
        "# (write your code below)\n",
        "e1 = 1\n",
        "e2 = 1\n",
        "e = e1 + e2\n",
        "e1= e2\n",
        "e2= e\n",
        "e = e1 + e2\n",
        "\n",
        "print(z,\"th \",\"position in fibonnaci sequences is\")\n",
        "for i in range (4,z+1):\n",
        "  e = e1 + e2\n",
        "  print(\"position\", i, \"th: \", e)\n",
        "  e1 = e2\n",
        "  e2 = e\n",
        "\n"
      ],
      "metadata": {
        "id": "wntlZUatp9uE",
        "outputId": "1abfc69f-91b0-489c-8d8c-e83dfb75a5c2",
        "colab": {
          "base_uri": "https://localhost:8080/"
        }
      },
      "execution_count": 58,
      "outputs": [
        {
          "output_type": "stream",
          "name": "stdout",
          "text": [
            "80 th  position in fibonnaci sequences is\n",
            "position 4 th:  3\n",
            "position 5 th:  5\n",
            "position 6 th:  8\n",
            "position 7 th:  13\n",
            "position 8 th:  21\n",
            "position 9 th:  34\n",
            "position 10 th:  55\n",
            "position 11 th:  89\n",
            "position 12 th:  144\n",
            "position 13 th:  233\n",
            "position 14 th:  377\n",
            "position 15 th:  610\n",
            "position 16 th:  987\n",
            "position 17 th:  1597\n",
            "position 18 th:  2584\n",
            "position 19 th:  4181\n",
            "position 20 th:  6765\n",
            "position 21 th:  10946\n",
            "position 22 th:  17711\n",
            "position 23 th:  28657\n",
            "position 24 th:  46368\n",
            "position 25 th:  75025\n",
            "position 26 th:  121393\n",
            "position 27 th:  196418\n",
            "position 28 th:  317811\n",
            "position 29 th:  514229\n",
            "position 30 th:  832040\n",
            "position 31 th:  1346269\n",
            "position 32 th:  2178309\n",
            "position 33 th:  3524578\n",
            "position 34 th:  5702887\n",
            "position 35 th:  9227465\n",
            "position 36 th:  14930352\n",
            "position 37 th:  24157817\n",
            "position 38 th:  39088169\n",
            "position 39 th:  63245986\n",
            "position 40 th:  102334155\n",
            "position 41 th:  165580141\n",
            "position 42 th:  267914296\n",
            "position 43 th:  433494437\n",
            "position 44 th:  701408733\n",
            "position 45 th:  1134903170\n",
            "position 46 th:  1836311903\n",
            "position 47 th:  2971215073\n",
            "position 48 th:  4807526976\n",
            "position 49 th:  7778742049\n",
            "position 50 th:  12586269025\n",
            "position 51 th:  20365011074\n",
            "position 52 th:  32951280099\n",
            "position 53 th:  53316291173\n",
            "position 54 th:  86267571272\n",
            "position 55 th:  139583862445\n",
            "position 56 th:  225851433717\n",
            "position 57 th:  365435296162\n",
            "position 58 th:  591286729879\n",
            "position 59 th:  956722026041\n",
            "position 60 th:  1548008755920\n",
            "position 61 th:  2504730781961\n",
            "position 62 th:  4052739537881\n",
            "position 63 th:  6557470319842\n",
            "position 64 th:  10610209857723\n",
            "position 65 th:  17167680177565\n",
            "position 66 th:  27777890035288\n",
            "position 67 th:  44945570212853\n",
            "position 68 th:  72723460248141\n",
            "position 69 th:  117669030460994\n",
            "position 70 th:  190392490709135\n",
            "position 71 th:  308061521170129\n",
            "position 72 th:  498454011879264\n",
            "position 73 th:  806515533049393\n",
            "position 74 th:  1304969544928657\n",
            "position 75 th:  2111485077978050\n",
            "position 76 th:  3416454622906707\n",
            "position 77 th:  5527939700884757\n",
            "position 78 th:  8944394323791464\n",
            "position 79 th:  14472334024676221\n",
            "position 80 th:  23416728348467685\n"
          ]
        }
      ]
    },
    {
      "cell_type": "markdown",
      "source": [
        "## Ex 4.\n",
        "\n",
        "Create a string variable with the name of your favorite music artist or group.Write the appropiate code to print it in reversed order.\n",
        "\n",
        "*Example:*\n",
        "\n",
        "`w = 'Dog'`\n",
        "\n",
        "Expected result: `'goD'`.\n",
        "\n",
        "\n",
        "\n"
      ],
      "metadata": {
        "id": "2t2WnRieqLoc"
      }
    },
    {
      "cell_type": "code",
      "source": [
        "# Answ. Ex 4\n",
        "# (write your code below)\n",
        "\n",
        "print(('Kany')[::-1])"
      ],
      "metadata": {
        "id": "joGbjuJKCzW0",
        "outputId": "c2935574-945b-452e-8229-703ae7ded15a",
        "colab": {
          "base_uri": "https://localhost:8080/"
        }
      },
      "execution_count": 43,
      "outputs": [
        {
          "output_type": "stream",
          "name": "stdout",
          "text": [
            "ynaK\n"
          ]
        }
      ]
    }
  ]
}