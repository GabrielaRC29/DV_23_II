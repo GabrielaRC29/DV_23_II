{
  "nbformat": 4,
  "nbformat_minor": 0,
  "metadata": {
    "colab": {
      "provenance": [],
      "include_colab_link": true
    },
    "kernelspec": {
      "name": "python3",
      "display_name": "Python 3"
    },
    "language_info": {
      "name": "python"
    }
  },
  "cells": [
    {
      "cell_type": "markdown",
      "metadata": {
        "id": "view-in-github",
        "colab_type": "text"
      },
      "source": [
        "<a href=\"https://colab.research.google.com/github/GabrielaRC29/DV_23_II/blob/main/Workshop_2.ipynb\" target=\"_parent\"><img src=\"https://colab.research.google.com/assets/colab-badge.svg\" alt=\"Open In Colab\"/></a>"
      ]
    },
    {
      "cell_type": "markdown",
      "source": [
        "<h1 align = \"center\">\n",
        "<strong> Universidad de La Salle </strong>\n",
        "</h1>\n",
        "\n",
        "<h1 align = \"center\">\n",
        "<strong> Finance and International Commerce Program </strong>\n",
        "</h1>\n",
        "\n",
        "<h1 align = \"center\">\n",
        "<strong> Data Visualization - Workshop 2 </strong>\n",
        "</h1>\n",
        "\n",
        "## Gabriela Rodriguez Consuegra ##\n"
      ],
      "metadata": {
        "id": "BJolccUZSw9G"
      }
    },
    {
      "cell_type": "markdown",
      "source": [
        "# **Instructions**\n",
        "\n",
        "1. Please read carefully the document. Ask all the questions you may have.\n",
        "2. Save this file in your Google Drive.\n",
        "3. DO NOT alter any cell unless it specifically ask you to do it.\n",
        "4. You will have **two hours** (until 11am) maximum to finish and deliver this workshop.\n",
        "5. You can use any help you want: your notes, your codes, internet, classmates.\n",
        "6. Nevertheless, the workshop must be presented individually.\n",
        "7. Once you have finish, save a copy in your GitHub class repository.\n",
        "8. The deliver process is as follows:\n",
        "    \n",
        "    8.1. Via email you will send the link to the GitHub location.\n",
        "    \n",
        "    8.2. In the same mail, just for safety, you will attach a copy of your `.ipynb` file.\n",
        "    \n",
        "    8.3. The email must have the subject: \"W2 DV\".   "
      ],
      "metadata": {
        "id": "pLRc5RAyWsre"
      }
    },
    {
      "cell_type": "markdown",
      "source": [
        "# **To keep in mind**\n",
        "\n",
        "* The excercises propouse are intended to **push** you a little futher in your Pyton skills.\n",
        "* This means that there are going to be exercises above the level seen in class.\n",
        "* The idea is to incentive your creative thinking and solving problem skills.\n",
        "* As always there several ways to do the excersice. But in this case, I ask you to use only the tools we learned.\n",
        "* I ask you to trust me. Give your best effort. Grades do not matter here."
      ],
      "metadata": {
        "id": "4QKdNKujZEbk"
      }
    },
    {
      "cell_type": "markdown",
      "source": [
        "# **Exercise**\n",
        "\n",
        "**Roulette!**\n",
        "\n",
        "Let's simulate a casino game.\n",
        "Specifically, a single-zero (french) roulette.\n",
        "\n",
        "This game consists on rolling a ball over a wheel with number pockets.\n",
        "\n",
        "[Game](https://image.shutterstock.com/image-illustration/casino-roulette-wheel-chips-on-600w-1288790665.jpg)\n",
        "\n",
        "There are several ways to bet on this game, you have to code a few."
      ],
      "metadata": {
        "id": "2kRoSKUmaGl9"
      }
    },
    {
      "cell_type": "code",
      "source": [
        "import numpy as np"
      ],
      "metadata": {
        "id": "8lMuVMe0iwhw"
      },
      "execution_count": 5,
      "outputs": []
    },
    {
      "cell_type": "markdown",
      "source": [
        "## Ex 1 - Number Bet\n",
        "\n",
        "You can bet on any number between 0 and 36.\n",
        "You win if the result is the number you bet on.\n",
        "In any other case, you lose.\n",
        "\n",
        "Write the appropiate the code to reflect this process.\n",
        "\n",
        "The result must show the bet made, the result obtained and if you win or lose."
      ],
      "metadata": {
        "id": "PYIRNu3imJ_n"
      }
    },
    {
      "cell_type": "code",
      "execution_count": 15,
      "metadata": {
        "id": "9TaC9734lQMI",
        "colab": {
          "base_uri": "https://localhost:8080/"
        },
        "outputId": "a96ceca9-7c72-43f1-cb1d-21ce1fa83434"
      },
      "outputs": [
        {
          "output_type": "stream",
          "name": "stdout",
          "text": [
            "Bet: 10\n",
            "Result: 17\n",
            "Win or lose: lose\n"
          ]
        }
      ],
      "source": [
        "import numpy as np\n",
        "\n",
        "def bet_on_number(bet):\n",
        "\n",
        "  result = np.random.randint(0, 37)\n",
        "  win_or_lose = \"win\" if result == bet else \"lose\"\n",
        "\n",
        "  return bet, result, win_or_lose\n",
        "\n",
        "bet_on_number(10)\n",
        "\n",
        "# Print the results.\n",
        "print(f\"Bet: {bet}\")\n",
        "print(f\"Result: {result}\")\n",
        "print(f\"Win or lose: {win_or_lose}\")\n"
      ]
    },
    {
      "cell_type": "markdown",
      "source": [
        "## Ex 2 - Color Bet\n",
        "\n",
        "Each color has an associated color. Zero is neutral.\n",
        "\n",
        "And the rest of the numbers vary between black and red (see the previous image).\n",
        "\n",
        "Write the appropiate code to simulate a random round of Roulette using only the color bet (black or white).\n",
        "\n",
        "The result must show the bet made, the result obtained and if you win or lose.\n",
        "\n",
        "*Tip: first define when you lose and when you win.*"
      ],
      "metadata": {
        "id": "LAdWe8iEaL7B"
      }
    },
    {
      "cell_type": "code",
      "execution_count": 33,
      "metadata": {
        "id": "rw792kISSt3n",
        "colab": {
          "base_uri": "https://localhost:8080/"
        },
        "outputId": "c60c4a73-1bd4-46e0-d723-000aaf1c467c"
      },
      "outputs": [
        {
          "output_type": "stream",
          "name": "stdout",
          "text": [
            "Bet: black\n",
            "Result: 22\n",
            "Win or lose: lose\n"
          ]
        }
      ],
      "source": [
        "def color_bet():\n",
        "\n",
        "  color = random.choice([\"black\", \"red\"])\n",
        "  result = random.randint(0, 36)\n",
        "\n",
        "  # Determine if the bet won or lost.\n",
        "  if (result == 0 and color == \"black\") or (result > 0 and result <= 18 and color == \"red\"):\n",
        "    win_or_lose = \"win\"\n",
        "  elif (result == 0 and color == \"red\") or (result > 18 and result <= 36 and color == \"black\"):\n",
        "    win_or_lose = \"lose\"\n",
        "  else:\n",
        "    win_or_lose = \"push\"\n",
        "\n",
        "  return (color, result, win_or_lose)\n",
        "\n",
        "# Simulate a color bet and print the result.\n",
        "bet, result, win_or_lose = color_bet()\n",
        "print(f\"Bet: {bet}\")\n",
        "print(f\"Result: {result}\")\n",
        "print(f\"Win or lose: {win_or_lose}\")"
      ]
    },
    {
      "cell_type": "markdown",
      "source": [
        "## Ex 3 - Dozens Bet\n",
        "\n",
        "Given the 3 groups:\n",
        "\n",
        "A -> numbers between 1 and 12.\n",
        "B -> numbers between 13 and 24.\n",
        "C -> numbers between 25 and 36.\n",
        "\n",
        "Write the appropiate code to print the result of betting exclusively with dozens.\n",
        "\n",
        "The result must show the bet made, the result obtained and if you win or lose.\n",
        "\n",
        "*Tip: Note that zero is not in the groups but it is a possible result.*"
      ],
      "metadata": {
        "id": "YFsGiwcNfgzP"
      }
    },
    {
      "cell_type": "code",
      "source": [
        "def dozens_bet():\n",
        "\n",
        "  dozen = np.random.choice([\"A\", \"B\", \"C\"])\n",
        "\n",
        "  result = np.random.randint(0, 36)\n",
        "\n",
        "  # Determine if the bet won or lost.\n",
        "  if result in range(1, 13) and dozen == \"A\":\n",
        "    win_or_lose = \"win\"\n",
        "  elif result in range(13, 25) and dozen == \"B\":\n",
        "    win_or_lose = \"win\"\n",
        "  elif result in range(25, 37) and dozen == \"C\":\n",
        "    win_or_lose = \"win\"\n",
        "  else:\n",
        "    win_or_lose = \"lose\"\n",
        "\n",
        "  return (dozen, result, win_or_lose)\n",
        "\n",
        "# Simulate a dozens bet and print the result.\n",
        "bet, result, win_or_lose = dozens_bet()\n",
        "print(f\"Bet: {bet}\")\n",
        "print(f\"Result: {result}\")\n",
        "print(f\"Win or lose: {win_or_lose}\")\n"
      ],
      "metadata": {
        "id": "Dwdsh30Ti3vl",
        "colab": {
          "base_uri": "https://localhost:8080/"
        },
        "outputId": "0e33190b-b5ff-4e8b-9acc-0905d01c747f"
      },
      "execution_count": 26,
      "outputs": [
        {
          "output_type": "stream",
          "name": "stdout",
          "text": [
            "Bet: C\n",
            "Result: 29\n",
            "Win or lose: win\n"
          ]
        }
      ]
    },
    {
      "cell_type": "markdown",
      "source": [
        "## Ex 4 - Putting everything together\n",
        "\n",
        "Write the code that simulate a random game of Roulette where the person can bet on: Number, Color, Dozen or any combination she or he wants.\n",
        "\n",
        "The result must show the bet made, the result obtained and if you win or lose."
      ],
      "metadata": {
        "id": "RSyiV1UPlVcJ"
      }
    },
    {
      "cell_type": "code",
      "source": [
        "def roulette_bet():\n",
        "\n",
        "  # Choose a bet type.\n",
        "  bet_type = random.choice([\"number\", \"color\", \"dozen\"])\n",
        "\n",
        "  # Choose a bet.\n",
        "  if bet_type == \"number\":\n",
        "    bet = random.randint(0, 36)\n",
        "  elif bet_type == \"color\":\n",
        "    bet = random.choice([\"black\", \"red\"])\n",
        "  else:\n",
        "    bet = random.choice([\"A\", \"B\", \"C\"])\n",
        "\n",
        "  # Spin the roulette wheel.\n",
        "  result = random.randint(0, 36)\n",
        "\n",
        "  # Determine if the bet won or lost.\n",
        "  if bet_type == \"number\" and bet == result:\n",
        "    win_or_lose = \"win\"\n",
        "  elif bet_type == \"color\" and (result == 0 and bet == \"black\") or (result > 0 and result <= 18 and bet == \"red\") or (result > 18 and result <= 36 and bet == \"black\"):\n",
        "    win_or_lose = \"win\"\n",
        "  elif bet_type == \"dozen\" and (result in range(1, 13) and bet == \"A\") or (result in range(13, 25) and bet == \"B\") or (result in range(25, 37) and bet == \"C\"):\n",
        "    win_or_lose = \"win\"\n",
        "  else:\n",
        "    win_or_lose = \"lose\"\n",
        "\n",
        "  return (bet_type, bet, result, win_or_lose)\n",
        "\n",
        "# Simulate a roulette bet and print the result.\n",
        "bet_type, bet, result, win_or_lose = roulette_bet()\n",
        "print(f\"Bet type: {bet_type}\")\n",
        "print(f\"Bet: {bet}\")\n",
        "print(f\"Result: {result}\")\n",
        "print(f\"Win or lose: {win_or_lose}\")"
      ],
      "metadata": {
        "id": "FQU_vc_5sse0",
        "colab": {
          "base_uri": "https://localhost:8080/"
        },
        "outputId": "fab14166-8303-4282-fe9d-207f40ff62a2"
      },
      "execution_count": 28,
      "outputs": [
        {
          "output_type": "stream",
          "name": "stdout",
          "text": [
            "Bet type: dozen\n",
            "Bet: B\n",
            "Result: 24\n",
            "Win or lose: win\n"
          ]
        }
      ]
    }
  ]
}