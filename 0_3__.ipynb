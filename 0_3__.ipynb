{
  "nbformat": 4,
  "nbformat_minor": 0,
  "metadata": {
    "colab": {
      "provenance": [],
      "include_colab_link": true
    },
    "kernelspec": {
      "name": "python3",
      "display_name": "Python 3"
    },
    "language_info": {
      "name": "python"
    }
  },
  "cells": [
    {
      "cell_type": "markdown",
      "metadata": {
        "id": "view-in-github",
        "colab_type": "text"
      },
      "source": [
        "<a href=\"https://colab.research.google.com/github/GabrielaRC29/DV_23_II/blob/main/0_3__.ipynb\" target=\"_parent\"><img src=\"https://colab.research.google.com/assets/colab-badge.svg\" alt=\"Open In Colab\"/></a>"
      ]
    },
    {
      "cell_type": "markdown",
      "source": [
        "# **1.what is a data structure?**\n",
        "\n",
        "Something that let me store several values.\n",
        "\n"
      ],
      "metadata": {
        "id": "JLSjv5eU2ajG"
      }
    },
    {
      "cell_type": "markdown",
      "source": [
        "# **2. Linear Algebra - Numpy**\n"
      ],
      "metadata": {
        "id": "VRm_EROh5HV9"
      }
    },
    {
      "cell_type": "markdown",
      "source": [
        "Numpy = Numerical Python"
      ],
      "metadata": {
        "id": "a9-7dSIr5Re9"
      }
    },
    {
      "cell_type": "code",
      "execution_count": 1,
      "metadata": {
        "id": "Ny9x14OR2TYa"
      },
      "outputs": [],
      "source": [
        "#Libraries\n",
        "import numpy as np"
      ]
    },
    {
      "cell_type": "markdown",
      "source": [
        "## 2.1 Numpy arrays - Vectors and Matrices"
      ],
      "metadata": {
        "id": "MHdrJpBC6bRY"
      }
    },
    {
      "cell_type": "code",
      "source": [
        "# Column Vector\n",
        "x = np.array([[1],[2],[3]])\n",
        "print(x)\n",
        "print(x.shape)"
      ],
      "metadata": {
        "colab": {
          "base_uri": "https://localhost:8080/"
        },
        "id": "uzLzasCr6ZVg",
        "outputId": "f467df6c-976d-43ea-838f-23b55b0ae9ff"
      },
      "execution_count": 2,
      "outputs": [
        {
          "output_type": "stream",
          "name": "stdout",
          "text": [
            "[[1]\n",
            " [2]\n",
            " [3]]\n",
            "(3, 1)\n"
          ]
        }
      ]
    },
    {
      "cell_type": "code",
      "source": [
        "# Row Vector\n",
        "y = np.array([[3, 4, 5]])\n",
        "print(y)\n",
        "print(y.shape)"
      ],
      "metadata": {
        "colab": {
          "base_uri": "https://localhost:8080/"
        },
        "id": "WoWCiisz8T6l",
        "outputId": "2ad4cdfb-d772-402b-9d1f-7194dd8571b4"
      },
      "execution_count": 3,
      "outputs": [
        {
          "output_type": "stream",
          "name": "stdout",
          "text": [
            "[[3 4 5]]\n",
            "(1, 3)\n"
          ]
        }
      ]
    },
    {
      "cell_type": "code",
      "source": [
        "#Matrix\n",
        "m = np.array([[1,2,3],\n",
        "             [ 4,5,6],\n",
        "              [7,8,9]])\n",
        "print(m)\n",
        "print(m.shape)"
      ],
      "metadata": {
        "colab": {
          "base_uri": "https://localhost:8080/"
        },
        "id": "OOrCM-Y48vX1",
        "outputId": "24c11138-3475-403b-98ea-7891f9c34b2d"
      },
      "execution_count": 7,
      "outputs": [
        {
          "output_type": "stream",
          "name": "stdout",
          "text": [
            "[[1 2 3]\n",
            " [4 5 6]\n",
            " [7 8 9]]\n",
            "(3, 3)\n"
          ]
        }
      ]
    },
    {
      "cell_type": "code",
      "source": [
        "# A nice trick\n",
        "n,m = m.shape\n",
        "print('number of rows in n:', n)\n",
        "print('number of Colum in m:', m)"
      ],
      "metadata": {
        "colab": {
          "base_uri": "https://localhost:8080/"
        },
        "id": "ssjHGyR399vK",
        "outputId": "2da8ba35-c9bb-4eab-f869-7a4ac6a329af"
      },
      "execution_count": 5,
      "outputs": [
        {
          "output_type": "stream",
          "name": "stdout",
          "text": [
            "number of rows in n: 3\n",
            "number of Colum in m: 3\n"
          ]
        }
      ]
    },
    {
      "cell_type": "markdown",
      "source": [
        "## 2.2. Slicing matrices"
      ],
      "metadata": {
        "id": "E4QF5nom6GJQ"
      }
    },
    {
      "cell_type": "code",
      "source": [
        "# Access information\n",
        "## For vector\n",
        "### Column Vector\n",
        "print(x[2])\n",
        "### Row vector\n",
        "print(y[0,0])\n",
        "\n",
        "## For matrix\n",
        "print(m[1,1])\n",
        "\n"
      ],
      "metadata": {
        "id": "MLoBaFDE_h7b",
        "colab": {
          "base_uri": "https://localhost:8080/"
        },
        "outputId": "69ec27d0-6e2a-45ba-ac71-4df032a6203e"
      },
      "execution_count": 8,
      "outputs": [
        {
          "output_type": "stream",
          "name": "stdout",
          "text": [
            "[3]\n",
            "3\n",
            "5\n"
          ]
        }
      ]
    },
    {
      "cell_type": "code",
      "source": [
        "# Exercise- Practice\n",
        "## Using a for loop display/print the number of the row\n",
        "## the number of the column, and the element for\n",
        "## every element in the matrix M\n",
        "for j in range(0,3):\n",
        "  for i in range(0,3):\n",
        "    print(\"Row Position\", j+1, \"Column Position\", i+1, \"Element:\",m[j,i])\n",
        "\n"
      ],
      "metadata": {
        "colab": {
          "base_uri": "https://localhost:8080/"
        },
        "id": "PLVe0szq6utL",
        "outputId": "3fa16904-9b1f-4ea9-da8f-1030eb08118e"
      },
      "execution_count": null,
      "outputs": [
        {
          "output_type": "stream",
          "name": "stdout",
          "text": [
            "Row Position 1 Column Position 1 Element: 1\n",
            "Row Position 1 Column Position 2 Element: 2\n",
            "Row Position 1 Column Position 3 Element: 3\n",
            "Row Position 2 Column Position 1 Element: 4\n",
            "Row Position 2 Column Position 2 Element: 5\n",
            "Row Position 2 Column Position 3 Element: 6\n",
            "Row Position 3 Column Position 1 Element: 7\n",
            "Row Position 3 Column Position 2 Element: 8\n",
            "Row Position 3 Column Position 3 Element: 9\n"
          ]
        }
      ]
    },
    {
      "cell_type": "markdown",
      "source": [
        "##2.2. Extract subsets"
      ],
      "metadata": {
        "id": "x3WCeq9x6Ktn"
      }
    },
    {
      "cell_type": "code",
      "source": [
        "# Extract an entire row\n",
        "print(m[1,])\n",
        "\n",
        "# Extract an entire column\n",
        "print(m[:,1])"
      ],
      "metadata": {
        "id": "OqqHsydW-it8",
        "colab": {
          "base_uri": "https://localhost:8080/"
        },
        "outputId": "c1a5b5c4-fcad-4a40-960b-52119e3caa4a"
      },
      "execution_count": null,
      "outputs": [
        {
          "output_type": "stream",
          "name": "stdout",
          "text": [
            "[4 5 6]\n",
            "[2 5 8]\n"
          ]
        }
      ]
    },
    {
      "cell_type": "code",
      "source": [
        "# Extract the elements of the\n",
        "# Last row and columns 2 and 3\n",
        "print(m[2,1:3])"
      ],
      "metadata": {
        "colab": {
          "base_uri": "https://localhost:8080/"
        },
        "id": "fPzM9U8J6a6E",
        "outputId": "69b2c14a-1907-4b12-9110-df1c85a93534"
      },
      "execution_count": null,
      "outputs": [
        {
          "output_type": "stream",
          "name": "stdout",
          "text": [
            "[8 9]\n"
          ]
        }
      ]
    },
    {
      "cell_type": "code",
      "source": [
        "# Extract the elements of the\n",
        "# Frist two rows and last two columns\n",
        "\n",
        "print(m[0:2,1:3])"
      ],
      "metadata": {
        "colab": {
          "base_uri": "https://localhost:8080/"
        },
        "id": "LwPz4t3q8BpJ",
        "outputId": "bb1482ce-76e7-415b-913c-86085d20b63b"
      },
      "execution_count": null,
      "outputs": [
        {
          "output_type": "stream",
          "name": "stdout",
          "text": [
            "[[2 3]\n",
            " [5 6]]\n"
          ]
        }
      ]
    },
    {
      "cell_type": "markdown",
      "source": [
        "## 2.4. Useful methos"
      ],
      "metadata": {
        "id": "Gi8tsA6_-K-Y"
      }
    },
    {
      "cell_type": "code",
      "source": [
        "# Zeros\n",
        "## One dimension\n",
        "z1 = np.zeros(7)\n",
        "print(\"z1\")\n",
        "print(z1)\n",
        "## Two dimensions\n",
        "z2 = np.zeros((3,5))\n",
        "print(\"z2\")\n",
        "print(z2)"
      ],
      "metadata": {
        "colab": {
          "base_uri": "https://localhost:8080/"
        },
        "id": "IQrqR2xV820e",
        "outputId": "8fcdc444-12c5-4d6e-d535-0a0c5f809a7a"
      },
      "execution_count": null,
      "outputs": [
        {
          "output_type": "stream",
          "name": "stdout",
          "text": [
            "z1\n",
            "[0. 0. 0. 0. 0. 0. 0.]\n",
            "z2\n",
            "[[0. 0. 0. 0. 0.]\n",
            " [0. 0. 0. 0. 0.]\n",
            " [0. 0. 0. 0. 0.]]\n"
          ]
        }
      ]
    },
    {
      "cell_type": "code",
      "source": [
        "# ones\n",
        "\n",
        "## One dimension\n",
        "o1 = np.ones(7)\n",
        "print(\"o1\")\n",
        "print(o1)\n",
        "## Two dimensions\n",
        "o2 = np.ones((3,5))\n",
        "print(\"o2\")\n",
        "print(o2)"
      ],
      "metadata": {
        "colab": {
          "base_uri": "https://localhost:8080/"
        },
        "id": "QVd-r4dX-0nT",
        "outputId": "2c542a1a-0e36-404d-e209-739fcaf77d81"
      },
      "execution_count": null,
      "outputs": [
        {
          "output_type": "stream",
          "name": "stdout",
          "text": [
            "o1\n",
            "[1. 1. 1. 1. 1. 1. 1.]\n",
            "o2\n",
            "[[1. 1. 1. 1. 1.]\n",
            " [1. 1. 1. 1. 1.]\n",
            " [1. 1. 1. 1. 1.]]\n"
          ]
        }
      ]
    },
    {
      "cell_type": "code",
      "source": [
        "# Full\n",
        "## One dimension\n",
        "f1 = np.full(3,13)\n",
        "print(\"f1\")\n",
        "print(f1)\n",
        "\n",
        "## Two dimension\n",
        "f2 = np.full((3,2),17)\n",
        "print(\"f2\")\n",
        "print(f2)"
      ],
      "metadata": {
        "colab": {
          "base_uri": "https://localhost:8080/"
        },
        "id": "_0E2gcN5_zu0",
        "outputId": "9cc1e672-6fdb-4b99-f619-77593f808770"
      },
      "execution_count": null,
      "outputs": [
        {
          "output_type": "stream",
          "name": "stdout",
          "text": [
            "f1\n",
            "[13 13 13]\n",
            "f2\n",
            "[[17 17]\n",
            " [17 17]\n",
            " [17 17]]\n"
          ]
        }
      ]
    },
    {
      "cell_type": "code",
      "source": [
        "# Sequence\n",
        "\n",
        "##Simple\n",
        "s1 = np. arange(10)\n",
        "print(\"s1\")\n",
        "print(s1)\n",
        "\n",
        "## Not that simple\n",
        "s2 = np. arange(start =2, stop = 15)\n",
        "print(\"s2\")\n",
        "print(s2)\n",
        "\n",
        "## Custom\n",
        "s3 = np. arange(start =2, stop = 15, step = 3)\n",
        "print(\"s3\")\n",
        "print(s3)"
      ],
      "metadata": {
        "colab": {
          "base_uri": "https://localhost:8080/"
        },
        "id": "cVQVLIKtAHz9",
        "outputId": "7379f086-f866-466d-aaee-b07879bdca85"
      },
      "execution_count": null,
      "outputs": [
        {
          "output_type": "stream",
          "name": "stdout",
          "text": [
            "s1\n",
            "[0 1 2 3 4 5 6 7 8 9]\n",
            "s2\n",
            "[ 2  3  4  5  6  7  8  9 10 11 12 13 14]\n",
            "s3\n",
            "[ 2  5  8 11 14]\n"
          ]
        }
      ]
    },
    {
      "cell_type": "code",
      "source": [
        "#Linear space\n",
        "l1 = np.linspace(0,2,5)\n",
        "print(\"l1\")\n",
        "print(l1)"
      ],
      "metadata": {
        "colab": {
          "base_uri": "https://localhost:8080/"
        },
        "id": "XsnglhB4A9Nu",
        "outputId": "90da85fb-1261-4600-a0d5-20164d89af84"
      },
      "execution_count": null,
      "outputs": [
        {
          "output_type": "stream",
          "name": "stdout",
          "text": [
            "l1\n",
            "[0.  0.5 1.  1.5 2. ]\n"
          ]
        }
      ]
    },
    {
      "cell_type": "code",
      "source": [],
      "metadata": {
        "id": "3bDzhp4BC81N"
      },
      "execution_count": null,
      "outputs": []
    },
    {
      "cell_type": "markdown",
      "source": [
        "## 2.5 Random numbers"
      ],
      "metadata": {
        "id": "AXHUhPacDOjO"
      }
    },
    {
      "cell_type": "code",
      "source": [
        "# Uniform distribution - [0, 1)\n",
        "# np.random.seed(1234)  # Fix the similation\n",
        "np.random.rand()\n"
      ],
      "metadata": {
        "colab": {
          "base_uri": "https://localhost:8080/"
        },
        "id": "BjzK4RTdDUzJ",
        "outputId": "0c76a7db-9cab-4002-a433-1778dabe3ec3"
      },
      "execution_count": null,
      "outputs": [
        {
          "output_type": "execute_result",
          "data": {
            "text/plain": [
              "0.6221087710398319"
            ]
          },
          "metadata": {},
          "execution_count": 69
        }
      ]
    },
    {
      "cell_type": "code",
      "source": [
        "# Example - Toss coin simulation\n",
        "if np.random.rand() <= 0.5:\n",
        "  print(\"Heads\")\n",
        "else:\n",
        "  print(\"Tails\")"
      ],
      "metadata": {
        "colab": {
          "base_uri": "https://localhost:8080/"
        },
        "id": "6VfdwG-yEghg",
        "outputId": "e9feffd6-a9f9-4368-e4bc-a84cd9fa7810"
      },
      "execution_count": null,
      "outputs": [
        {
          "output_type": "stream",
          "name": "stdout",
          "text": [
            "Heads\n"
          ]
        }
      ]
    },
    {
      "cell_type": "markdown",
      "source": [
        "if/ else with more than 2 options"
      ],
      "metadata": {
        "id": "gsPZbA6X5u-v"
      }
    },
    {
      "cell_type": "code",
      "source": [
        "# Example - three options\n",
        "\n",
        "toss = np.random.rand()\n",
        "\n",
        "if toss <= 0.4:\n",
        "  print('green')\n",
        "elif toss > 0.4 and toss <= 0.6:\n",
        "  print('blue')\n",
        "else:\n",
        "  print('red')"
      ],
      "metadata": {
        "colab": {
          "base_uri": "https://localhost:8080/"
        },
        "id": "VMDsElv95mX6",
        "outputId": "1e9cb4db-3951-48b5-cece-9bd6dbb7a456"
      },
      "execution_count": 13,
      "outputs": [
        {
          "output_type": "stream",
          "name": "stdout",
          "text": [
            "green\n"
          ]
        }
      ]
    },
    {
      "cell_type": "code",
      "source": [
        "## Exercise\n",
        "## Simulate three coin tosses and\n",
        "## present the results according these rules:\n",
        "\n",
        "## 1. Three heads, result: 'You win COP 100K'\n",
        "## 2. Three tails, result: 'You win COP 90K'\n",
        "## 3. Otherwise, result: 'You loose'\n"
      ],
      "metadata": {
        "id": "bNrzt7Lf7kFa"
      },
      "execution_count": null,
      "outputs": []
    },
    {
      "cell_type": "code",
      "source": [
        "# Example - Toss coin simulation\n",
        "\n",
        "# coin <= 0.5 is heads and else is tails\n",
        "\n",
        "coin1 = np.random.rand()\n",
        "coin2 = np.random.rand()\n",
        "coin3 = np.random.rand()\n",
        "\n",
        "\n",
        "if coin1 <= 0.5 and coin2 <= 0.5 and coin3 <= 0.5:\n",
        "  print('Three heads:','You win COP 100K')\n",
        "elif coin1 > 0.5 and coin2 > 0.5 and coin3 > 0.5:\n",
        "  print('Three tails:', 'You win 90k')\n",
        "else:\n",
        "  print('You loose')"
      ],
      "metadata": {
        "colab": {
          "base_uri": "https://localhost:8080/"
        },
        "id": "FvDf03lh8p_x",
        "outputId": "5e473b2e-512e-4dd5-9dde-67dd55a8ec69"
      },
      "execution_count": 28,
      "outputs": [
        {
          "output_type": "stream",
          "name": "stdout",
          "text": [
            "Three heads: You win COP 100K\n"
          ]
        }
      ]
    },
    {
      "cell_type": "code",
      "source": [
        "np.random.rand(3)\n"
      ],
      "metadata": {
        "colab": {
          "base_uri": "https://localhost:8080/"
        },
        "id": "q0MnptggANvf",
        "outputId": "d77dd3da-20a0-47c2-d4ae-5f49855dc0cb"
      },
      "execution_count": 29,
      "outputs": [
        {
          "output_type": "execute_result",
          "data": {
            "text/plain": [
              "array([0.74350561, 0.50256088, 0.50304967])"
            ]
          },
          "metadata": {},
          "execution_count": 29
        }
      ]
    },
    {
      "cell_type": "code",
      "source": [
        "tosses = np.random.rand(3)\n",
        "\n",
        "if np.all(tosses <= 0.5):\n",
        "  print('Three heads:','You win COP 100K')\n",
        "elif np.all(tosses > 0.5):\n",
        "  print('Three tails:', 'You win 90k')\n",
        "else:\n",
        "  print('You loose')"
      ],
      "metadata": {
        "colab": {
          "base_uri": "https://localhost:8080/"
        },
        "id": "hcDH6HIAAame",
        "outputId": "ceac2987-8050-488f-88e3-5000e0435188"
      },
      "execution_count": 39,
      "outputs": [
        {
          "output_type": "stream",
          "name": "stdout",
          "text": [
            "You loose\n"
          ]
        }
      ]
    },
    {
      "cell_type": "code",
      "source": [
        "# Example - Triangular Distribution\n",
        "np.random.triangular(100,200,500,7)"
      ],
      "metadata": {
        "colab": {
          "base_uri": "https://localhost:8080/"
        },
        "id": "c7FBZnhnC2Wv",
        "outputId": "b793d819-f840-45ee-f0a0-de4fa5384d7c"
      },
      "execution_count": 41,
      "outputs": [
        {
          "output_type": "execute_result",
          "data": {
            "text/plain": [
              "array([154.16371899, 316.48888508, 201.89790417, 227.45455467,\n",
              "       276.05718961, 227.54718766, 310.47874613])"
            ]
          },
          "metadata": {},
          "execution_count": 41
        }
      ]
    },
    {
      "cell_type": "code",
      "source": [
        "tosses = np.random.rand(7)\n",
        "\n",
        "if np.all(tosses <= 0.03):\n",
        "  print('Negativo','100')\n",
        "elif np.all(tosses > 0.7):\n",
        "  print('Promedio', '200')\n",
        "else:\n",
        "  print('Excelente','500')"
      ],
      "metadata": {
        "colab": {
          "base_uri": "https://localhost:8080/"
        },
        "id": "RaUw0fnMGwna",
        "outputId": "9c7bb966-f6f1-4ec9-992e-ae5569bba792"
      },
      "execution_count": 92,
      "outputs": [
        {
          "output_type": "stream",
          "name": "stdout",
          "text": [
            "Excelente 500\n"
          ]
        }
      ]
    },
    {
      "cell_type": "code",
      "source": [
        "## Sales\n",
        "bs = 100\n",
        "av = 200\n",
        "gs = 500\n",
        "\n",
        "## Probabilities\n",
        "pb = 1/30\n",
        "pg = 8/30\n",
        "\n",
        "n= 7 # number of days or iterate\n",
        "\n",
        "for i in range ( 1, n+1):\n",
        " day = np.random.rand()\n",
        " if day <= pb:\n",
        "  print(bs)\n",
        " elif day > 1 - pg:\n",
        "  print(gs)\n",
        " else:\n",
        "  print(av)\n"
      ],
      "metadata": {
        "colab": {
          "base_uri": "https://localhost:8080/"
        },
        "id": "nb2asW_GKpTs",
        "outputId": "7d2cd4b1-47ce-4c7d-d1b6-466512d1d767"
      },
      "execution_count": 115,
      "outputs": [
        {
          "output_type": "stream",
          "name": "stdout",
          "text": [
            "200\n",
            "200\n",
            "200\n",
            "200\n",
            "500\n",
            "200\n",
            "200\n"
          ]
        }
      ]
    }
  ]
}